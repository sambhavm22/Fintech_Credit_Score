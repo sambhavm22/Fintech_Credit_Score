{
 "cells": [
  {
   "cell_type": "code",
   "execution_count": 1,
   "metadata": {},
   "outputs": [],
   "source": [
    "from sklearn.model_selection import train_test_split\n",
    "from sklearn.preprocessing import StandardScaler, OneHotEncoder\n",
    "from sklearn.linear_model import LinearRegression\n",
    "from xgboost import XGBRegressor \n",
    "from sklearn.ensemble import RandomForestRegressor\n",
    "\n",
    "from sklearn.metrics import mean_absolute_error, mean_squared_error, r2_score\n",
    "from sklearn.compose import ColumnTransformer\n",
    "from sklearn.pipeline import Pipeline\n",
    "\n",
    "import pandas as pd\n",
    "import numpy as np\n",
    "import seaborn as sns\n",
    "import matplotlib.pyplot as plt"
   ]
  },
  {
   "cell_type": "code",
   "execution_count": 2,
   "metadata": {},
   "outputs": [
    {
     "data": {
      "text/plain": [
       "(100000, 29)"
      ]
     },
     "execution_count": 2,
     "metadata": {},
     "output_type": "execute_result"
    }
   ],
   "source": [
    "df = pd.read_csv('final_df.csv')\n",
    "df.shape"
   ]
  },
  {
   "cell_type": "markdown",
   "metadata": {},
   "source": [
    "### Dropping columns that are not requried for training"
   ]
  },
  {
   "cell_type": "code",
   "execution_count": 3,
   "metadata": {},
   "outputs": [],
   "source": [
    "df.drop(columns=['Unnamed: 0', 'ID', 'Customer_ID', 'Name', 'SSN'], inplace=True, axis=1)\n",
    "\n"
   ]
  },
  {
   "cell_type": "code",
   "execution_count": 4,
   "metadata": {},
   "outputs": [],
   "source": [
    "X = df.drop(columns=['Credit Score'])\n",
    "y = df['Credit Score']\n",
    "\n",
    "X_train, X_test, y_train, y_test = train_test_split(X, y, test_size=0.2, random_state=42)\n"
   ]
  },
  {
   "cell_type": "code",
   "execution_count": 5,
   "metadata": {},
   "outputs": [
    {
     "data": {
      "text/plain": [
       "((80000, 23), (80000,))"
      ]
     },
     "execution_count": 5,
     "metadata": {},
     "output_type": "execute_result"
    }
   ],
   "source": [
    "X_train.shape, y_train.shape"
   ]
  },
  {
   "cell_type": "code",
   "execution_count": 6,
   "metadata": {},
   "outputs": [
    {
     "data": {
      "text/plain": [
       "((20000, 23), (20000,))"
      ]
     },
     "execution_count": 6,
     "metadata": {},
     "output_type": "execute_result"
    }
   ],
   "source": [
    "X_test.shape, y_test.shape"
   ]
  },
  {
   "cell_type": "code",
   "execution_count": 7,
   "metadata": {},
   "outputs": [
    {
     "data": {
      "text/html": [
       "<style>#sk-container-id-1 {color: black;background-color: white;}#sk-container-id-1 pre{padding: 0;}#sk-container-id-1 div.sk-toggleable {background-color: white;}#sk-container-id-1 label.sk-toggleable__label {cursor: pointer;display: block;width: 100%;margin-bottom: 0;padding: 0.3em;box-sizing: border-box;text-align: center;}#sk-container-id-1 label.sk-toggleable__label-arrow:before {content: \"▸\";float: left;margin-right: 0.25em;color: #696969;}#sk-container-id-1 label.sk-toggleable__label-arrow:hover:before {color: black;}#sk-container-id-1 div.sk-estimator:hover label.sk-toggleable__label-arrow:before {color: black;}#sk-container-id-1 div.sk-toggleable__content {max-height: 0;max-width: 0;overflow: hidden;text-align: left;background-color: #f0f8ff;}#sk-container-id-1 div.sk-toggleable__content pre {margin: 0.2em;color: black;border-radius: 0.25em;background-color: #f0f8ff;}#sk-container-id-1 input.sk-toggleable__control:checked~div.sk-toggleable__content {max-height: 200px;max-width: 100%;overflow: auto;}#sk-container-id-1 input.sk-toggleable__control:checked~label.sk-toggleable__label-arrow:before {content: \"▾\";}#sk-container-id-1 div.sk-estimator input.sk-toggleable__control:checked~label.sk-toggleable__label {background-color: #d4ebff;}#sk-container-id-1 div.sk-label input.sk-toggleable__control:checked~label.sk-toggleable__label {background-color: #d4ebff;}#sk-container-id-1 input.sk-hidden--visually {border: 0;clip: rect(1px 1px 1px 1px);clip: rect(1px, 1px, 1px, 1px);height: 1px;margin: -1px;overflow: hidden;padding: 0;position: absolute;width: 1px;}#sk-container-id-1 div.sk-estimator {font-family: monospace;background-color: #f0f8ff;border: 1px dotted black;border-radius: 0.25em;box-sizing: border-box;margin-bottom: 0.5em;}#sk-container-id-1 div.sk-estimator:hover {background-color: #d4ebff;}#sk-container-id-1 div.sk-parallel-item::after {content: \"\";width: 100%;border-bottom: 1px solid gray;flex-grow: 1;}#sk-container-id-1 div.sk-label:hover label.sk-toggleable__label {background-color: #d4ebff;}#sk-container-id-1 div.sk-serial::before {content: \"\";position: absolute;border-left: 1px solid gray;box-sizing: border-box;top: 0;bottom: 0;left: 50%;z-index: 0;}#sk-container-id-1 div.sk-serial {display: flex;flex-direction: column;align-items: center;background-color: white;padding-right: 0.2em;padding-left: 0.2em;position: relative;}#sk-container-id-1 div.sk-item {position: relative;z-index: 1;}#sk-container-id-1 div.sk-parallel {display: flex;align-items: stretch;justify-content: center;background-color: white;position: relative;}#sk-container-id-1 div.sk-item::before, #sk-container-id-1 div.sk-parallel-item::before {content: \"\";position: absolute;border-left: 1px solid gray;box-sizing: border-box;top: 0;bottom: 0;left: 50%;z-index: -1;}#sk-container-id-1 div.sk-parallel-item {display: flex;flex-direction: column;z-index: 1;position: relative;background-color: white;}#sk-container-id-1 div.sk-parallel-item:first-child::after {align-self: flex-end;width: 50%;}#sk-container-id-1 div.sk-parallel-item:last-child::after {align-self: flex-start;width: 50%;}#sk-container-id-1 div.sk-parallel-item:only-child::after {width: 0;}#sk-container-id-1 div.sk-dashed-wrapped {border: 1px dashed gray;margin: 0 0.4em 0.5em 0.4em;box-sizing: border-box;padding-bottom: 0.4em;background-color: white;}#sk-container-id-1 div.sk-label label {font-family: monospace;font-weight: bold;display: inline-block;line-height: 1.2em;}#sk-container-id-1 div.sk-label-container {text-align: center;}#sk-container-id-1 div.sk-container {/* jupyter's `normalize.less` sets `[hidden] { display: none; }` but bootstrap.min.css set `[hidden] { display: none !important; }` so we also need the `!important` here to be able to override the default hidden behavior on the sphinx rendered scikit-learn.org. See: https://github.com/scikit-learn/scikit-learn/issues/21755 */display: inline-block !important;position: relative;}#sk-container-id-1 div.sk-text-repr-fallback {display: none;}</style><div id=\"sk-container-id-1\" class=\"sk-top-container\"><div class=\"sk-text-repr-fallback\"><pre>Pipeline(steps=[(&#x27;process&#x27;,\n",
       "                 ColumnTransformer(remainder=&#x27;passthrough&#x27;,\n",
       "                                   transformers=[(&#x27;num_tran&#x27;,\n",
       "                                                  Pipeline(steps=[(&#x27;scale&#x27;,\n",
       "                                                                   StandardScaler())]),\n",
       "                                                  [&#x27;Age&#x27;, &#x27;Annual_Income&#x27;,\n",
       "                                                   &#x27;Monthly_Inhand_Salary&#x27;,\n",
       "                                                   &#x27;Num_Bank_Accounts&#x27;,\n",
       "                                                   &#x27;Num_Credit_Card&#x27;,\n",
       "                                                   &#x27;Interest_Rate&#x27;,\n",
       "                                                   &#x27;Num_of_Loan&#x27;,\n",
       "                                                   &#x27;Delay_from_due_date&#x27;,\n",
       "                                                   &#x27;Num_of_Delayed_Payment&#x27;,\n",
       "                                                   &#x27;Changed_Credit_Limit&#x27;,\n",
       "                                                   &#x27;Num_Credit_Inquiries&#x27;,\n",
       "                                                   &#x27;O...\n",
       "                                                   &#x27;Credit_History_Age&#x27;,\n",
       "                                                   &#x27;Total_EMI_per_month&#x27;,\n",
       "                                                   &#x27;Amount_invested_monthly&#x27;,\n",
       "                                                   &#x27;Monthly_Balance&#x27;]),\n",
       "                                                 (&#x27;cat_tran&#x27;,\n",
       "                                                  Pipeline(steps=[(&#x27;onehot&#x27;,\n",
       "                                                                   OneHotEncoder(drop=&#x27;first&#x27;,\n",
       "                                                                                 handle_unknown=&#x27;ignore&#x27;,\n",
       "                                                                                 sparse_output=False))]),\n",
       "                                                  Index([&#x27;Month&#x27;, &#x27;Occupation&#x27;, &#x27;Type_of_Loan&#x27;, &#x27;Credit_Mix&#x27;,\n",
       "       &#x27;Payment_of_Min_Amount&#x27;, &#x27;Payment_Behaviour&#x27;],\n",
       "      dtype=&#x27;object&#x27;))])),\n",
       "                (&#x27;model&#x27;, RandomForestRegressor())])</pre><b>In a Jupyter environment, please rerun this cell to show the HTML representation or trust the notebook. <br />On GitHub, the HTML representation is unable to render, please try loading this page with nbviewer.org.</b></div><div class=\"sk-container\" hidden><div class=\"sk-item sk-dashed-wrapped\"><div class=\"sk-label-container\"><div class=\"sk-label sk-toggleable\"><input class=\"sk-toggleable__control sk-hidden--visually\" id=\"sk-estimator-id-1\" type=\"checkbox\" ><label for=\"sk-estimator-id-1\" class=\"sk-toggleable__label sk-toggleable__label-arrow\">Pipeline</label><div class=\"sk-toggleable__content\"><pre>Pipeline(steps=[(&#x27;process&#x27;,\n",
       "                 ColumnTransformer(remainder=&#x27;passthrough&#x27;,\n",
       "                                   transformers=[(&#x27;num_tran&#x27;,\n",
       "                                                  Pipeline(steps=[(&#x27;scale&#x27;,\n",
       "                                                                   StandardScaler())]),\n",
       "                                                  [&#x27;Age&#x27;, &#x27;Annual_Income&#x27;,\n",
       "                                                   &#x27;Monthly_Inhand_Salary&#x27;,\n",
       "                                                   &#x27;Num_Bank_Accounts&#x27;,\n",
       "                                                   &#x27;Num_Credit_Card&#x27;,\n",
       "                                                   &#x27;Interest_Rate&#x27;,\n",
       "                                                   &#x27;Num_of_Loan&#x27;,\n",
       "                                                   &#x27;Delay_from_due_date&#x27;,\n",
       "                                                   &#x27;Num_of_Delayed_Payment&#x27;,\n",
       "                                                   &#x27;Changed_Credit_Limit&#x27;,\n",
       "                                                   &#x27;Num_Credit_Inquiries&#x27;,\n",
       "                                                   &#x27;O...\n",
       "                                                   &#x27;Credit_History_Age&#x27;,\n",
       "                                                   &#x27;Total_EMI_per_month&#x27;,\n",
       "                                                   &#x27;Amount_invested_monthly&#x27;,\n",
       "                                                   &#x27;Monthly_Balance&#x27;]),\n",
       "                                                 (&#x27;cat_tran&#x27;,\n",
       "                                                  Pipeline(steps=[(&#x27;onehot&#x27;,\n",
       "                                                                   OneHotEncoder(drop=&#x27;first&#x27;,\n",
       "                                                                                 handle_unknown=&#x27;ignore&#x27;,\n",
       "                                                                                 sparse_output=False))]),\n",
       "                                                  Index([&#x27;Month&#x27;, &#x27;Occupation&#x27;, &#x27;Type_of_Loan&#x27;, &#x27;Credit_Mix&#x27;,\n",
       "       &#x27;Payment_of_Min_Amount&#x27;, &#x27;Payment_Behaviour&#x27;],\n",
       "      dtype=&#x27;object&#x27;))])),\n",
       "                (&#x27;model&#x27;, RandomForestRegressor())])</pre></div></div></div><div class=\"sk-serial\"><div class=\"sk-item sk-dashed-wrapped\"><div class=\"sk-label-container\"><div class=\"sk-label sk-toggleable\"><input class=\"sk-toggleable__control sk-hidden--visually\" id=\"sk-estimator-id-2\" type=\"checkbox\" ><label for=\"sk-estimator-id-2\" class=\"sk-toggleable__label sk-toggleable__label-arrow\">process: ColumnTransformer</label><div class=\"sk-toggleable__content\"><pre>ColumnTransformer(remainder=&#x27;passthrough&#x27;,\n",
       "                  transformers=[(&#x27;num_tran&#x27;,\n",
       "                                 Pipeline(steps=[(&#x27;scale&#x27;, StandardScaler())]),\n",
       "                                 [&#x27;Age&#x27;, &#x27;Annual_Income&#x27;,\n",
       "                                  &#x27;Monthly_Inhand_Salary&#x27;, &#x27;Num_Bank_Accounts&#x27;,\n",
       "                                  &#x27;Num_Credit_Card&#x27;, &#x27;Interest_Rate&#x27;,\n",
       "                                  &#x27;Num_of_Loan&#x27;, &#x27;Delay_from_due_date&#x27;,\n",
       "                                  &#x27;Num_of_Delayed_Payment&#x27;,\n",
       "                                  &#x27;Changed_Credit_Limit&#x27;,\n",
       "                                  &#x27;Num_Credit_Inquiries&#x27;, &#x27;Outstanding_Debt&#x27;,\n",
       "                                  &#x27;Credit_Utilization_Ratio&#x27;,\n",
       "                                  &#x27;Credit_History_Age&#x27;, &#x27;Total_EMI_per_month&#x27;,\n",
       "                                  &#x27;Amount_invested_monthly&#x27;,\n",
       "                                  &#x27;Monthly_Balance&#x27;]),\n",
       "                                (&#x27;cat_tran&#x27;,\n",
       "                                 Pipeline(steps=[(&#x27;onehot&#x27;,\n",
       "                                                  OneHotEncoder(drop=&#x27;first&#x27;,\n",
       "                                                                handle_unknown=&#x27;ignore&#x27;,\n",
       "                                                                sparse_output=False))]),\n",
       "                                 Index([&#x27;Month&#x27;, &#x27;Occupation&#x27;, &#x27;Type_of_Loan&#x27;, &#x27;Credit_Mix&#x27;,\n",
       "       &#x27;Payment_of_Min_Amount&#x27;, &#x27;Payment_Behaviour&#x27;],\n",
       "      dtype=&#x27;object&#x27;))])</pre></div></div></div><div class=\"sk-parallel\"><div class=\"sk-parallel-item\"><div class=\"sk-item\"><div class=\"sk-label-container\"><div class=\"sk-label sk-toggleable\"><input class=\"sk-toggleable__control sk-hidden--visually\" id=\"sk-estimator-id-3\" type=\"checkbox\" ><label for=\"sk-estimator-id-3\" class=\"sk-toggleable__label sk-toggleable__label-arrow\">num_tran</label><div class=\"sk-toggleable__content\"><pre>[&#x27;Age&#x27;, &#x27;Annual_Income&#x27;, &#x27;Monthly_Inhand_Salary&#x27;, &#x27;Num_Bank_Accounts&#x27;, &#x27;Num_Credit_Card&#x27;, &#x27;Interest_Rate&#x27;, &#x27;Num_of_Loan&#x27;, &#x27;Delay_from_due_date&#x27;, &#x27;Num_of_Delayed_Payment&#x27;, &#x27;Changed_Credit_Limit&#x27;, &#x27;Num_Credit_Inquiries&#x27;, &#x27;Outstanding_Debt&#x27;, &#x27;Credit_Utilization_Ratio&#x27;, &#x27;Credit_History_Age&#x27;, &#x27;Total_EMI_per_month&#x27;, &#x27;Amount_invested_monthly&#x27;, &#x27;Monthly_Balance&#x27;]</pre></div></div></div><div class=\"sk-serial\"><div class=\"sk-item\"><div class=\"sk-serial\"><div class=\"sk-item\"><div class=\"sk-estimator sk-toggleable\"><input class=\"sk-toggleable__control sk-hidden--visually\" id=\"sk-estimator-id-4\" type=\"checkbox\" ><label for=\"sk-estimator-id-4\" class=\"sk-toggleable__label sk-toggleable__label-arrow\">StandardScaler</label><div class=\"sk-toggleable__content\"><pre>StandardScaler()</pre></div></div></div></div></div></div></div></div><div class=\"sk-parallel-item\"><div class=\"sk-item\"><div class=\"sk-label-container\"><div class=\"sk-label sk-toggleable\"><input class=\"sk-toggleable__control sk-hidden--visually\" id=\"sk-estimator-id-5\" type=\"checkbox\" ><label for=\"sk-estimator-id-5\" class=\"sk-toggleable__label sk-toggleable__label-arrow\">cat_tran</label><div class=\"sk-toggleable__content\"><pre>Index([&#x27;Month&#x27;, &#x27;Occupation&#x27;, &#x27;Type_of_Loan&#x27;, &#x27;Credit_Mix&#x27;,\n",
       "       &#x27;Payment_of_Min_Amount&#x27;, &#x27;Payment_Behaviour&#x27;],\n",
       "      dtype=&#x27;object&#x27;)</pre></div></div></div><div class=\"sk-serial\"><div class=\"sk-item\"><div class=\"sk-serial\"><div class=\"sk-item\"><div class=\"sk-estimator sk-toggleable\"><input class=\"sk-toggleable__control sk-hidden--visually\" id=\"sk-estimator-id-6\" type=\"checkbox\" ><label for=\"sk-estimator-id-6\" class=\"sk-toggleable__label sk-toggleable__label-arrow\">OneHotEncoder</label><div class=\"sk-toggleable__content\"><pre>OneHotEncoder(drop=&#x27;first&#x27;, handle_unknown=&#x27;ignore&#x27;, sparse_output=False)</pre></div></div></div></div></div></div></div></div><div class=\"sk-parallel-item\"><div class=\"sk-item\"><div class=\"sk-label-container\"><div class=\"sk-label sk-toggleable\"><input class=\"sk-toggleable__control sk-hidden--visually\" id=\"sk-estimator-id-7\" type=\"checkbox\" ><label for=\"sk-estimator-id-7\" class=\"sk-toggleable__label sk-toggleable__label-arrow\">remainder</label><div class=\"sk-toggleable__content\"><pre>[]</pre></div></div></div><div class=\"sk-serial\"><div class=\"sk-item\"><div class=\"sk-estimator sk-toggleable\"><input class=\"sk-toggleable__control sk-hidden--visually\" id=\"sk-estimator-id-8\" type=\"checkbox\" ><label for=\"sk-estimator-id-8\" class=\"sk-toggleable__label sk-toggleable__label-arrow\">passthrough</label><div class=\"sk-toggleable__content\"><pre>passthrough</pre></div></div></div></div></div></div></div></div><div class=\"sk-item\"><div class=\"sk-estimator sk-toggleable\"><input class=\"sk-toggleable__control sk-hidden--visually\" id=\"sk-estimator-id-9\" type=\"checkbox\" ><label for=\"sk-estimator-id-9\" class=\"sk-toggleable__label sk-toggleable__label-arrow\">RandomForestRegressor</label><div class=\"sk-toggleable__content\"><pre>RandomForestRegressor()</pre></div></div></div></div></div></div></div>"
      ],
      "text/plain": [
       "Pipeline(steps=[('process',\n",
       "                 ColumnTransformer(remainder='passthrough',\n",
       "                                   transformers=[('num_tran',\n",
       "                                                  Pipeline(steps=[('scale',\n",
       "                                                                   StandardScaler())]),\n",
       "                                                  ['Age', 'Annual_Income',\n",
       "                                                   'Monthly_Inhand_Salary',\n",
       "                                                   'Num_Bank_Accounts',\n",
       "                                                   'Num_Credit_Card',\n",
       "                                                   'Interest_Rate',\n",
       "                                                   'Num_of_Loan',\n",
       "                                                   'Delay_from_due_date',\n",
       "                                                   'Num_of_Delayed_Payment',\n",
       "                                                   'Changed_Credit_Limit',\n",
       "                                                   'Num_Credit_Inquiries',\n",
       "                                                   'O...\n",
       "                                                   'Credit_History_Age',\n",
       "                                                   'Total_EMI_per_month',\n",
       "                                                   'Amount_invested_monthly',\n",
       "                                                   'Monthly_Balance']),\n",
       "                                                 ('cat_tran',\n",
       "                                                  Pipeline(steps=[('onehot',\n",
       "                                                                   OneHotEncoder(drop='first',\n",
       "                                                                                 handle_unknown='ignore',\n",
       "                                                                                 sparse_output=False))]),\n",
       "                                                  Index(['Month', 'Occupation', 'Type_of_Loan', 'Credit_Mix',\n",
       "       'Payment_of_Min_Amount', 'Payment_Behaviour'],\n",
       "      dtype='object'))])),\n",
       "                ('model', RandomForestRegressor())])"
      ]
     },
     "execution_count": 7,
     "metadata": {},
     "output_type": "execute_result"
    }
   ],
   "source": [
    "# Define your XGBRegressor model\n",
    "model_rf = RandomForestRegressor()\n",
    "\n",
    "# Define columns for one-hot encoding\n",
    "cat_col = X_train.select_dtypes(include='object').columns\n",
    "\n",
    "# Define columns for standardization\n",
    "num_col = X_train.select_dtypes('number').columns.tolist()\n",
    "\n",
    "# Define the pipeline for numerical features\n",
    "num_pipe = Pipeline(steps=[\n",
    "    ('scale', StandardScaler())\n",
    "])\n",
    "\n",
    "# Define the pipeline for categorical features\n",
    "cat_pipe = Pipeline(steps=[\n",
    "    ('onehot', OneHotEncoder(drop='first', handle_unknown='ignore', sparse_output=False))\n",
    "])\n",
    "\n",
    "# Combine the transformers in a ColumnTransformer\n",
    "process = ColumnTransformer(transformers=[\n",
    "    ('num_tran', num_pipe, num_col),\n",
    "    ('cat_tran', cat_pipe, cat_col)\n",
    "], remainder='passthrough')\n",
    "\n",
    "# Create the final pipeline\n",
    "final_rf = Pipeline(steps=[\n",
    "    ('process', process),\n",
    "    ('model', model_rf)\n",
    "])\n",
    "\n",
    "# Fit the final model\n",
    "final_rf.fit(X_train, y_train)"
   ]
  },
  {
   "cell_type": "code",
   "execution_count": 8,
   "metadata": {},
   "outputs": [],
   "source": [
    "y_pred_rf = final_rf.predict(X_test)"
   ]
  },
  {
   "cell_type": "code",
   "execution_count": 9,
   "metadata": {},
   "outputs": [
    {
     "name": "stdout",
     "output_type": "stream",
     "text": [
      "mean_absolute_error : 6.31\n",
      "mean_squared_error : 79.31\n",
      "r2_score : 0.99\n"
     ]
    }
   ],
   "source": [
    "print(f\"mean_absolute_error : {mean_absolute_error(y_test, y_pred_rf):.2f}\")\n",
    "print(f\"mean_squared_error : {mean_squared_error(y_test, y_pred_rf):.2f}\")\n",
    "print(f\"r2_score : {r2_score(y_test, y_pred_rf):.2f}\")"
   ]
  },
  {
   "cell_type": "code",
   "execution_count": 10,
   "metadata": {},
   "outputs": [
    {
     "name": "stdout",
     "output_type": "stream",
     "text": [
      "Preprocessing successful!\n",
      "[09:24:38] WARNING: /Users/runner/work/xgboost/xgboost/python-package/build/temp.macosx-11.0-arm64-cpython-38/xgboost/src/learner.cc:767: \n",
      "Parameters: { \"verbose\" } are not used.\n",
      "\n"
     ]
    }
   ],
   "source": [
    "# Define the XGBRegressor model\n",
    "model_xgb = XGBRegressor(verbose=1)\n",
    "\n",
    "# Define columns for one-hot encoding\n",
    "cat_col = X_train.select_dtypes('object').columns.tolist()\n",
    "\n",
    "# Define columns for standardization\n",
    "num_col = X_train.select_dtypes('number').columns.tolist()\n",
    "\n",
    "# Define the pipeline for numerical features\n",
    "num_pipe = Pipeline(steps=[\n",
    "    ('scale', StandardScaler())\n",
    "])\n",
    "\n",
    "# Define the pipeline for categorical features\n",
    "cat_pipe = Pipeline(steps=[\n",
    "    ('onehot', OneHotEncoder(drop='first', handle_unknown='ignore', sparse_output=False))\n",
    "])\n",
    "\n",
    "# Combine the transformers in a ColumnTransformer\n",
    "process = ColumnTransformer(transformers=[\n",
    "    ('num_tran', num_pipe, num_col),\n",
    "    ('cat_tran', cat_pipe, cat_col)\n",
    "], remainder='passthrough')\n",
    "\n",
    "# Create the final pipeline\n",
    "final_xgb = Pipeline(steps=[\n",
    "    ('process', process),\n",
    "    ('model', model_xgb)\n",
    "])\n",
    "\n",
    "# Preprocess data to check if it works\n",
    "try:\n",
    "    X_processed = process.fit_transform(X_train)\n",
    "    print(\"Preprocessing successful!\")\n",
    "except Exception as e:\n",
    "    print(f\"Error during preprocessing: {e}\")\n",
    "\n",
    "# Fit the final model\n",
    "try:\n",
    "    final_xgb.fit(X_train, y_train)\n",
    "except Exception as e:\n",
    "    print(f\"Error during model fitting: {e}\")\n"
   ]
  },
  {
   "cell_type": "code",
   "execution_count": 11,
   "metadata": {},
   "outputs": [
    {
     "name": "stdout",
     "output_type": "stream",
     "text": [
      "mean_absolute_error : 5.16\n",
      "mean_squared_error : 55.37\n",
      "r2_score : 0.99\n"
     ]
    }
   ],
   "source": [
    "y_pred_xgb = final_xgb.predict(X_test)\n",
    "print(f\"mean_absolute_error : {mean_absolute_error(y_test, y_pred_xgb):.2f}\")\n",
    "print(f\"mean_squared_error : {mean_squared_error(y_test, y_pred_xgb):.2f}\")\n",
    "print(f\"r2_score : {r2_score(y_test, y_pred_xgb):.2f}\")"
   ]
  },
  {
   "cell_type": "markdown",
   "metadata": {},
   "source": [
    "### With this MSE, MAE and r2 score\n",
    "\n",
    "1. The model is highly accurate, with an R² of 0.99 indicating it explains almost all of the variance in the data.\n",
    "2. The average prediction error is 5.16 units (MAE), and while larger errors are slightly penalized (MSE = 55.37), they are still relatively small given the R² score."
   ]
  },
  {
   "cell_type": "markdown",
   "metadata": {},
   "source": []
  }
 ],
 "metadata": {
  "kernelspec": {
   "display_name": "Python 3",
   "language": "python",
   "name": "python3"
  },
  "language_info": {
   "codemirror_mode": {
    "name": "ipython",
    "version": 3
   },
   "file_extension": ".py",
   "mimetype": "text/x-python",
   "name": "python",
   "nbconvert_exporter": "python",
   "pygments_lexer": "ipython3",
   "version": "3.9.6"
  },
  "orig_nbformat": 4
 },
 "nbformat": 4,
 "nbformat_minor": 2
}
